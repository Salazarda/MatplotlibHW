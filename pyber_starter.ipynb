{
 "cells": [
  {
   "cell_type": "code",
   "execution_count": 1,
   "metadata": {},
   "outputs": [
    {
     "data": {
      "text/html": [
       "<div>\n",
       "<style scoped>\n",
       "    .dataframe tbody tr th:only-of-type {\n",
       "        vertical-align: middle;\n",
       "    }\n",
       "\n",
       "    .dataframe tbody tr th {\n",
       "        vertical-align: top;\n",
       "    }\n",
       "\n",
       "    .dataframe thead th {\n",
       "        text-align: right;\n",
       "    }\n",
       "</style>\n",
       "<table border=\"1\" class=\"dataframe\">\n",
       "  <thead>\n",
       "    <tr style=\"text-align: right;\">\n",
       "      <th></th>\n",
       "      <th>city</th>\n",
       "      <th>driver_count</th>\n",
       "      <th>type</th>\n",
       "      <th>date</th>\n",
       "      <th>fare</th>\n",
       "      <th>ride_id</th>\n",
       "    </tr>\n",
       "  </thead>\n",
       "  <tbody>\n",
       "    <tr>\n",
       "      <th>0</th>\n",
       "      <td>Richardfort</td>\n",
       "      <td>38</td>\n",
       "      <td>Urban</td>\n",
       "      <td>2018-02-24 08:40:38</td>\n",
       "      <td>13.93</td>\n",
       "      <td>5628545007794</td>\n",
       "    </tr>\n",
       "    <tr>\n",
       "      <th>28</th>\n",
       "      <td>Williamsstad</td>\n",
       "      <td>59</td>\n",
       "      <td>Urban</td>\n",
       "      <td>2018-01-23 17:51:24</td>\n",
       "      <td>19.62</td>\n",
       "      <td>125986195523</td>\n",
       "    </tr>\n",
       "    <tr>\n",
       "      <th>51</th>\n",
       "      <td>Port Angela</td>\n",
       "      <td>67</td>\n",
       "      <td>Urban</td>\n",
       "      <td>2018-04-17 06:23:18</td>\n",
       "      <td>16.34</td>\n",
       "      <td>7120534266772</td>\n",
       "    </tr>\n",
       "    <tr>\n",
       "      <th>70</th>\n",
       "      <td>Rodneyfort</td>\n",
       "      <td>34</td>\n",
       "      <td>Urban</td>\n",
       "      <td>2018-02-10 23:22:03</td>\n",
       "      <td>23.44</td>\n",
       "      <td>5149245426178</td>\n",
       "    </tr>\n",
       "    <tr>\n",
       "      <th>93</th>\n",
       "      <td>West Robert</td>\n",
       "      <td>39</td>\n",
       "      <td>Urban</td>\n",
       "      <td>2018-02-15 04:21:47</td>\n",
       "      <td>12.28</td>\n",
       "      <td>1442502460354</td>\n",
       "    </tr>\n",
       "  </tbody>\n",
       "</table>\n",
       "</div>"
      ],
      "text/plain": [
       "            city  driver_count   type                 date   fare  \\\n",
       "0    Richardfort            38  Urban  2018-02-24 08:40:38  13.93   \n",
       "28  Williamsstad            59  Urban  2018-01-23 17:51:24  19.62   \n",
       "51   Port Angela            67  Urban  2018-04-17 06:23:18  16.34   \n",
       "70    Rodneyfort            34  Urban  2018-02-10 23:22:03  23.44   \n",
       "93   West Robert            39  Urban  2018-02-15 04:21:47  12.28   \n",
       "\n",
       "          ride_id  \n",
       "0   5628545007794  \n",
       "28   125986195523  \n",
       "51  7120534266772  \n",
       "70  5149245426178  \n",
       "93  1442502460354  "
      ]
     },
     "execution_count": 1,
     "metadata": {},
     "output_type": "execute_result"
    }
   ],
   "source": [
    "%matplotlib inline\n",
    "# Dependencies and Setup\n",
    "import matplotlib.pyplot as plt\n",
    "import pandas as pd\n",
    "import numpy as np\n",
    "\n",
    "# File to Load (Remember to change these)\n",
    "city_data_to_load = \"city_data.csv\"\n",
    "ride_data_to_load = \"ride_data.csv\"\n",
    "\n",
    "\n",
    "# Read the City and Ride Data\n",
    "city_df = pd.read_csv(\"city_data.csv\")\n",
    "city_df.head()\n",
    "ride_df = pd.read_csv('ride_data.csv')\n",
    "ride_df.head()\n",
    "# Combine the data into a single dataset\n",
    "original_merge = pd.merge(city_df, ride_df, on='city')\n",
    "original_merge\n",
    "# Display the data table for preview\n",
    "original_merge.drop_duplicates(\"city\").head()"
   ]
  },
  {
   "cell_type": "code",
   "execution_count": 2,
   "metadata": {},
   "outputs": [],
   "source": [
    "#city_group = original_merge.groupby(['city'])\n",
    "#city_group\n",
    "#fare_group = city_group['fare'].mean()\n",
    "#fare_group\n",
    "#ride_count = city_group['ride_id'].count()\n",
    "#ride_count\n",
    "city_data_df = original_merge.groupby(\"city\")\n",
    "#count_df = city_group['type'].count()\n",
    "#count_df\n",
    "average_fare = city_data_df[\"fare\"].mean()\n",
    "ride_count = city_data_df['ride_id'].count()\n",
    "#original_merge['city'].unique()\n",
    "# count_driver = city_data_df['driver_count'].mean()\n",
    "# sub_cat = original_merge['fare'].groupby([original_merge['type']]).mean()\n",
    "# sub_cat"
   ]
  },
  {
   "cell_type": "code",
   "execution_count": 3,
   "metadata": {
    "scrolled": false
   },
   "outputs": [
    {
     "data": {
      "text/plain": [
       "1625"
      ]
     },
     "execution_count": 3,
     "metadata": {},
     "output_type": "execute_result"
    }
   ],
   "source": [
    "urban_df = original_merge[original_merge['type'] == 'Urban']['type'].count()\n",
    "urban_df"
   ]
  },
  {
   "cell_type": "markdown",
   "metadata": {},
   "source": [
    "## Bubble Plot of Ride Sharing Data"
   ]
  },
  {
   "cell_type": "code",
   "execution_count": 19,
   "metadata": {},
   "outputs": [
    {
     "data": {
      "text/plain": [
       "<matplotlib.legend.Legend at 0x259d62dd320>"
      ]
     },
     "execution_count": 19,
     "metadata": {},
     "output_type": "execute_result"
    },
    {
     "data": {
      "image/png": "[encoded data removed]",
      "text/plain": [
       "<Figure size 432x288 with 1 Axes>"
      ]
     },
     "metadata": {
      "needs_background": "light"
     },
     "output_type": "display_data"
    }
   ],
   "source": [
    "# Obtain the x and y coordinates for each of the three city types\n",
    "x = ride_count\n",
    "y = average_fare\n",
    "# Build the scatter plots for each city types\n",
    "suburban = plt.scatter(x,y, s=ride_count, marker=\"o\", c='blue', alpha=0.75)\n",
    "rural = plt.scatter(x,y, s=ride_count, marker='o', c=\"red\", alpha=0.75)\n",
    "city = plt.scatter(x,y, s=ride_count, marker=1, c='yellow', alpha=0.75)\n",
    "# Incorporate the other graph properties\n",
    "plt.xlabel(\"Total Number of rides \")\n",
    "plt.ylabel('Average Fare')\n",
    "plt.title('Pyber Ride Sharing Data')\n",
    "# Create a legend\n",
    "\n",
    "# Obtain the x and y coordinates for each of the three city types\n",
    "#databycity_df = combined_df.groupby([\"type\"],[\"city\"])\n",
    "#databycity_df = combined_df.groupby(\"type\")\n",
    "# databycity_df = combined_df.groupby(\"city\")\n",
    "#Average Fare ($) Per City\n",
    "#Total Number of Rides Per City\n",
    "#Total Number of Drivers Per City\n",
    "#City Type (Urban, Suburban, Rural)\n",
    "avgfare = city_data_df[\"fare\"].mean()\n",
    "#avgfare = databycity_df[\"fare\"].sum() / databycity_df[\"city\"].nunique()\n",
    "ridecount = city_data_df[\"ride_id\"].count()\n",
    "drivercount = city_data_df[\"driver_count\"].mean()*10\n",
    "#each of the above defined separately for each city type?\n",
    "#urban = databycity_df[databycity_df[\"type\"]== \"Urban\"]\n",
    "#uavgfare = databycity_df[\"fare\"].mean()\n",
    "#uridecount = databycity_df[\"ride_id\"].count()\n",
    "#udrivercount = databycity_df[\"driver_count\"].mean()*10\n",
    "#suburban = databycity_df[databycity_df[\"type\"]== \"Suburban\"]\n",
    "#savgfare = suburban[\"fare\"].mean()\n",
    "#sridecount = databycity_df[\"ride_id\"].count()\n",
    "#sdrivercount = databycity_df[\"driver_count\"].mean()*10\n",
    "#rural = databycity_df[databycity_df[\"type\"]== \"Rural\"]\n",
    "#ravgfare = rural[\"fare\"].mean()\n",
    "#rridecount = rural[\"ride_id\"].count()\n",
    "#rdrivercount = rural[\"driver_count\"].mean()*10\n",
    "#urban = databycity_df.loc[\"type\"]\n",
    "#suburban\n",
    "#rural\n",
    "\n",
    "# Build the scatter plots for each city types\n",
    "#pyberplot = plt.scatter(ridecount, avgfare, marker=\"o\", facecolors=\"red\", edgecolors=\"black\",\n",
    "#            s=drivercount, alpha=0.75)\n",
    "# urbanplt = plt.scatter(ridecount, avgfare, marker=\"o\", facecolors=\"lightcoral\", edgecolors=\"black\",\n",
    "#             s=drivercount, alpha=0.75, label =\"Urban\")\n",
    "# suburbanplt = plt.scatter(ridecount, avgfare, marker=\"o\", facecolors=\"lightskyblue\", edgecolors=\"black\",\n",
    "#             s=drivercount, alpha=0.75, label =\"Suburban\")\n",
    "# ruralplt = plt.scatter(ridecount, avgfare, marker=\"o\", facecolors=\"gold\", edgecolors=\"black\",\n",
    "#             s=drivercount, alpha=0.75, label =\"Rural\")\n",
    "# Incorporate the other graph properties\n",
    "\n",
    "# Create a legend\n",
    "plt.legend(handles=[city, suburban, rural], loc=\"best\")\n",
    "# Incorporate a text label regarding circle size\n",
    "\n",
    "# Save Figure\n"
   ]
  },
  {
   "cell_type": "code",
   "execution_count": null,
   "metadata": {},
   "outputs": [],
   "source": [
    "#index = pd.MultiIndex.city_group(city_group, names=('city', 'type'))\n",
    "#jazz = city_group['type'].groupby([city_group['fare']]).mean()\n"
   ]
  },
  {
   "cell_type": "code",
   "execution_count": 20,
   "metadata": {},
   "outputs": [],
   "source": [
    "# Show plot\n",
    "plt.show()"
   ]
  },
  {
   "cell_type": "markdown",
   "metadata": {},
   "source": [
    "## Total Fares by City Type"
   ]
  },
  {
   "cell_type": "code",
   "execution_count": 21,
   "metadata": {},
   "outputs": [
    {
     "data": {
      "text/plain": [
       "([<matplotlib.patches.Wedge at 0x259d7573240>,\n",
       "  <matplotlib.patches.Wedge at 0x259d7573780>,\n",
       "  <matplotlib.patches.Wedge at 0x259d73adb70>],\n",
       " [Text(-1.0336751511106508, 0.6095208626260248, 'Urban'),\n",
       "  Text(-0.9860007094711902, -0.48765008040839053, 'Suburban'),\n",
       "  Text(1.0528174881480703, 0.31870885875605665, 'Rural')],\n",
       " [Text(-0.602977171481213, 0.3555538365318478, '5.3%'),\n",
       "  Text(-0.5378185688024674, -0.26599095295003117, '26.3%'),\n",
       "  Text(0.5742640844444019, 0.17384119568512177, '68.4%')])"
      ]
     },
     "execution_count": 21,
     "metadata": {},
     "output_type": "execute_result"
    },
    {
     "data": {
      "image/png": "[encoded data removed]",
      "text/plain": [
       "<Figure size 432x288 with 1 Axes>"
      ]
     },
     "metadata": {},
     "output_type": "display_data"
    }
   ],
   "source": [
    "# Calculate Type Percents\n",
    "type_df = original_merge.groupby('type')\n",
    "count_df = type_df['fare'].count() / type_df['type'].count().sum()\n",
    "count_df\n",
    "# Build Pie Chart\n",
    "# Labels for the sections of our pie chart\n",
    "labels = [\"Urban\", \"Suburban\", \"Rural\"]\n",
    "\n",
    "# The values of each section of the pie chart\n",
    "sizes = count_df\n",
    "\n",
    "# The colors of each section of the pie chart\n",
    "colors = [\"red\", \"orange\", \"lightcoral\",]\n",
    "\n",
    "# Tells matplotlib to seperate the \"Python\" section from the others\n",
    "explode = (0.1, 0, 0,)\n",
    "# Save Figure\n",
    "plt.pie(sizes, explode=explode, labels=labels, colors=colors,\n",
    "        autopct=\"%1.1f%%\", shadow=True, startangle=140)"
   ]
  },
  {
   "cell_type": "code",
   "execution_count": 22,
   "metadata": {},
   "outputs": [
    {
     "data": {
      "image/png": "[encoded data removed]",
      "text/plain": [
       "<Figure size 432x288 with 1 Axes>"
      ]
     },
     "metadata": {},
     "output_type": "display_data"
    }
   ],
   "source": [
    "# Show Figure\n",
    "\n",
    "# Build Pie Chart\n",
    "#used this output as the sizes\n",
    "sub_cat = original_merge['fare'].groupby([original_merge['type']]).mean()\n",
    "sub_cat\n",
    "# Labels for the sections of our pie chart\n",
    "labels = [\"Urban\", \"Suburban\", \"Rural\"]\n",
    "\n",
    "# The values of each section of the pie chart\n",
    "sizes = [24.525772,30.970128, 34.623440 ]\n",
    "\n",
    "# The colors of each section of the pie chart\n",
    "colors = [\"red\", \"orange\", \"lightcoral\",]\n",
    "\n",
    "# Tells matplotlib to seperate the \"Python\" section from the others\n",
    "explode = (0.1, 0, 0,)\n",
    "# Save Figure\n",
    "plt.pie(sizes, explode=explode, labels=labels, colors=colors,\n",
    "        autopct=\"%1.1f%%\", shadow=True, startangle=140)\n",
    "plt.show()"
   ]
  },
  {
   "cell_type": "markdown",
   "metadata": {},
   "source": [
    "## Total Rides by City Type"
   ]
  },
  {
   "cell_type": "code",
   "execution_count": 24,
   "metadata": {},
   "outputs": [
    {
     "data": {
      "text/plain": [
       "([<matplotlib.patches.Wedge at 0x259d79b2128>,\n",
       "  <matplotlib.patches.Wedge at 0x259d79a6828>,\n",
       "  <matplotlib.patches.Wedge at 0x259d7692358>],\n",
       " [Text(-0.9475355551847633, 0.5587274574071894, 'Urban'),\n",
       "  Text(-0.9860007094711902, -0.48765008040839053, 'Suburban'),\n",
       "  Text(1.0528174881480703, 0.31870885875605665, 'Rural')],\n",
       " [Text(-0.5168375755553254, 0.3047604313130124, '5.3%'),\n",
       "  Text(-0.5378185688024674, -0.26599095295003117, '26.3%'),\n",
       "  Text(0.5742640844444019, 0.17384119568512177, '68.4%')])"
      ]
     },
     "execution_count": 24,
     "metadata": {},
     "output_type": "execute_result"
    },
    {
     "data": {
      "image/png": "[encoded data removed]",
      "text/plain": [
       "<Figure size 432x288 with 1 Axes>"
      ]
     },
     "metadata": {},
     "output_type": "display_data"
    }
   ],
   "source": [
    "# Calculate Ride Percents\n",
    "sub_cat = original_merge.groupby(\"type\")\n",
    "sub_cat_perc = sub_cat['fare'].count() / sub_cat['type'].count().sum()\n",
    "# Build Pie Chart\n",
    "labels = original_merge['type'].unique()\n",
    "size = sub_cat_perc\n",
    "explode = (0.3, 0, 0,)\n",
    "colors = ['red', 'green', 'blue']\n",
    "# Save Figure['']\n",
    "plt.pie(size, labels=labels, colors=colors, autopct=\"%1.1f%%\", shadow=True, startangle=140)"
   ]
  },
  {
   "cell_type": "code",
   "execution_count": 25,
   "metadata": {},
   "outputs": [],
   "source": [
    "# Show Figure\n",
    "plt.show()"
   ]
  },
  {
   "cell_type": "markdown",
   "metadata": {},
   "source": [
    "## Total Drivers by City Type"
   ]
  },
  {
   "cell_type": "code",
   "execution_count": 29,
   "metadata": {},
   "outputs": [
    {
     "data": {
      "text/plain": [
       "([<matplotlib.patches.Wedge at 0x259d7995630>,\n",
       "  <matplotlib.patches.Wedge at 0x259d792c860>,\n",
       "  <matplotlib.patches.Wedge at 0x259d8136080>],\n",
       " [Text(-0.9475355551847633, 0.5587274574071894, 'Urban'),\n",
       "  Text(-0.9860007094711902, -0.48765008040839053, 'Suburban'),\n",
       "  Text(1.0528174881480703, 0.31870885875605665, 'Rural')],\n",
       " [Text(-0.5168375755553254, 0.3047604313130124, '5.3%'),\n",
       "  Text(-0.5378185688024674, -0.26599095295003117, '26.3%'),\n",
       "  Text(0.5742640844444019, 0.17384119568512177, '68.4%')])"
      ]
     },
     "execution_count": 29,
     "metadata": {},
     "output_type": "execute_result"
    },
    {
     "data": {
      "image/png": "[encoded data removed]",
      "text/plain": [
       "<Figure size 432x288 with 1 Axes>"
      ]
     },
     "metadata": {},
     "output_type": "display_data"
    }
   ],
   "source": [
    "# Calculate Driver Percents\n",
    "driver_group = original_merge.groupby('type')\n",
    "driver_group\n",
    "\n",
    "driver_perc = driver_group['type'].count() / driver_group['driver_count'].count().sum()\n",
    "labels = original_merge['type'].unique()\n",
    "# Build Pie Charts\n",
    "size = driver_perc\n",
    "colors = ['purple', 'red', 'green']\n",
    "# Save Figure\n",
    "plt.pie(size, labels=labels, colors=colors, autopct=\"%1.1f%%\", shadow=True, startangle=140)"
   ]
  },
  {
   "cell_type": "code",
   "execution_count": null,
   "metadata": {
    "scrolled": true
   },
   "outputs": [],
   "source": [
    "# Show Figure\n",
    "plt.show()"
   ]
  },
  {
   "cell_type": "code",
   "execution_count": null,
   "metadata": {},
   "outputs": [],
   "source": []
  }
 ],
 "metadata": {
  "anaconda-cloud": {},
  "kernelspec": {
   "display_name": "Python 3",
   "language": "python",
   "name": "python3"
  },
  "language_info": {
   "codemirror_mode": {
    "name": "ipython",
    "version": 3
   },
   "file_extension": ".py",
   "mimetype": "text/x-python",
   "name": "python",
   "nbconvert_exporter": "python",
   "pygments_lexer": "ipython3",
   "version": "3.7.1"
  }
 },
 "nbformat": 4,
 "nbformat_minor": 2
}
